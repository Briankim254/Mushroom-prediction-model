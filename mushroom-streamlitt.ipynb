{
 "cells": [
  {
   "cell_type": "code",
   "execution_count": 1,
   "id": "d032351f",
   "metadata": {
    "_cell_guid": "b1076dfc-b9ad-4769-8c92-a6c4dae69d19",
    "_uuid": "8f2839f25d086af736a60e9eeb907d3b93b6e0e5",
    "execution": {
     "iopub.execute_input": "2022-11-02T15:33:19.518224Z",
     "iopub.status.busy": "2022-11-02T15:33:19.517659Z",
     "iopub.status.idle": "2022-11-02T15:33:19.537337Z",
     "shell.execute_reply": "2022-11-02T15:33:19.536015Z"
    },
    "papermill": {
     "duration": 0.032964,
     "end_time": "2022-11-02T15:33:19.540521",
     "exception": false,
     "start_time": "2022-11-02T15:33:19.507557",
     "status": "completed"
    },
    "tags": []
   },
   "outputs": [],
   "source": [
    "import numpy as np \n",
    "import pandas as pd "
   ]
  },
  {
   "cell_type": "code",
   "execution_count": 2,
   "id": "80afadd4",
   "metadata": {
    "execution": {
     "iopub.execute_input": "2022-11-02T15:33:19.556951Z",
     "iopub.status.busy": "2022-11-02T15:33:19.556509Z",
     "iopub.status.idle": "2022-11-02T15:33:19.604487Z",
     "shell.execute_reply": "2022-11-02T15:33:19.603520Z"
    },
    "papermill": {
     "duration": 0.059401,
     "end_time": "2022-11-02T15:33:19.607287",
     "exception": false,
     "start_time": "2022-11-02T15:33:19.547886",
     "status": "completed"
    },
    "tags": []
   },
   "outputs": [],
   "source": [
    "\n",
    "df=pd.read_csv(r'C:\\Users\\kimut\\Downloads\\mushrooms.csv',na_values=[\"-\"])"
   ]
  },
  {
   "cell_type": "code",
   "execution_count": 3,
   "id": "72d6acb7",
   "metadata": {
    "execution": {
     "iopub.execute_input": "2022-11-02T15:33:19.623650Z",
     "iopub.status.busy": "2022-11-02T15:33:19.623181Z",
     "iopub.status.idle": "2022-11-02T15:33:19.665683Z",
     "shell.execute_reply": "2022-11-02T15:33:19.664466Z"
    },
    "papermill": {
     "duration": 0.053611,
     "end_time": "2022-11-02T15:33:19.668236",
     "exception": false,
     "start_time": "2022-11-02T15:33:19.614625",
     "status": "completed"
    },
    "tags": []
   },
   "outputs": [
    {
     "data": {
      "text/html": [
       "<div>\n",
       "<style scoped>\n",
       "    .dataframe tbody tr th:only-of-type {\n",
       "        vertical-align: middle;\n",
       "    }\n",
       "\n",
       "    .dataframe tbody tr th {\n",
       "        vertical-align: top;\n",
       "    }\n",
       "\n",
       "    .dataframe thead th {\n",
       "        text-align: right;\n",
       "    }\n",
       "</style>\n",
       "<table border=\"1\" class=\"dataframe\">\n",
       "  <thead>\n",
       "    <tr style=\"text-align: right;\">\n",
       "      <th></th>\n",
       "      <th>class</th>\n",
       "      <th>capshape</th>\n",
       "      <th>capsurface</th>\n",
       "      <th>capcolor</th>\n",
       "      <th>bruises</th>\n",
       "      <th>odor</th>\n",
       "      <th>gillattachment</th>\n",
       "      <th>gillspacing</th>\n",
       "      <th>gillsize</th>\n",
       "      <th>gillcolor</th>\n",
       "      <th>...</th>\n",
       "      <th>stalksurfacebelowring</th>\n",
       "      <th>stalkcolorabovering</th>\n",
       "      <th>stalkcolorbelowring</th>\n",
       "      <th>veiltype</th>\n",
       "      <th>veilcolor</th>\n",
       "      <th>ringnumber</th>\n",
       "      <th>ringtype</th>\n",
       "      <th>sporeprintcolor</th>\n",
       "      <th>population</th>\n",
       "      <th>habitat</th>\n",
       "    </tr>\n",
       "  </thead>\n",
       "  <tbody>\n",
       "    <tr>\n",
       "      <th>0</th>\n",
       "      <td>p</td>\n",
       "      <td>x</td>\n",
       "      <td>s</td>\n",
       "      <td>n</td>\n",
       "      <td>t</td>\n",
       "      <td>p</td>\n",
       "      <td>f</td>\n",
       "      <td>c</td>\n",
       "      <td>n</td>\n",
       "      <td>k</td>\n",
       "      <td>...</td>\n",
       "      <td>s</td>\n",
       "      <td>w</td>\n",
       "      <td>w</td>\n",
       "      <td>p</td>\n",
       "      <td>w</td>\n",
       "      <td>o</td>\n",
       "      <td>p</td>\n",
       "      <td>k</td>\n",
       "      <td>s</td>\n",
       "      <td>u</td>\n",
       "    </tr>\n",
       "    <tr>\n",
       "      <th>1</th>\n",
       "      <td>e</td>\n",
       "      <td>x</td>\n",
       "      <td>s</td>\n",
       "      <td>y</td>\n",
       "      <td>t</td>\n",
       "      <td>a</td>\n",
       "      <td>f</td>\n",
       "      <td>c</td>\n",
       "      <td>b</td>\n",
       "      <td>k</td>\n",
       "      <td>...</td>\n",
       "      <td>s</td>\n",
       "      <td>w</td>\n",
       "      <td>w</td>\n",
       "      <td>p</td>\n",
       "      <td>w</td>\n",
       "      <td>o</td>\n",
       "      <td>p</td>\n",
       "      <td>n</td>\n",
       "      <td>n</td>\n",
       "      <td>g</td>\n",
       "    </tr>\n",
       "    <tr>\n",
       "      <th>2</th>\n",
       "      <td>e</td>\n",
       "      <td>b</td>\n",
       "      <td>s</td>\n",
       "      <td>w</td>\n",
       "      <td>t</td>\n",
       "      <td>l</td>\n",
       "      <td>f</td>\n",
       "      <td>c</td>\n",
       "      <td>b</td>\n",
       "      <td>n</td>\n",
       "      <td>...</td>\n",
       "      <td>s</td>\n",
       "      <td>w</td>\n",
       "      <td>w</td>\n",
       "      <td>p</td>\n",
       "      <td>w</td>\n",
       "      <td>o</td>\n",
       "      <td>p</td>\n",
       "      <td>n</td>\n",
       "      <td>n</td>\n",
       "      <td>m</td>\n",
       "    </tr>\n",
       "    <tr>\n",
       "      <th>3</th>\n",
       "      <td>p</td>\n",
       "      <td>x</td>\n",
       "      <td>y</td>\n",
       "      <td>w</td>\n",
       "      <td>t</td>\n",
       "      <td>p</td>\n",
       "      <td>f</td>\n",
       "      <td>c</td>\n",
       "      <td>n</td>\n",
       "      <td>n</td>\n",
       "      <td>...</td>\n",
       "      <td>s</td>\n",
       "      <td>w</td>\n",
       "      <td>w</td>\n",
       "      <td>p</td>\n",
       "      <td>w</td>\n",
       "      <td>o</td>\n",
       "      <td>p</td>\n",
       "      <td>k</td>\n",
       "      <td>s</td>\n",
       "      <td>u</td>\n",
       "    </tr>\n",
       "    <tr>\n",
       "      <th>4</th>\n",
       "      <td>e</td>\n",
       "      <td>x</td>\n",
       "      <td>s</td>\n",
       "      <td>g</td>\n",
       "      <td>f</td>\n",
       "      <td>n</td>\n",
       "      <td>f</td>\n",
       "      <td>w</td>\n",
       "      <td>b</td>\n",
       "      <td>k</td>\n",
       "      <td>...</td>\n",
       "      <td>s</td>\n",
       "      <td>w</td>\n",
       "      <td>w</td>\n",
       "      <td>p</td>\n",
       "      <td>w</td>\n",
       "      <td>o</td>\n",
       "      <td>e</td>\n",
       "      <td>n</td>\n",
       "      <td>a</td>\n",
       "      <td>g</td>\n",
       "    </tr>\n",
       "  </tbody>\n",
       "</table>\n",
       "<p>5 rows × 23 columns</p>\n",
       "</div>"
      ],
      "text/plain": [
       "  class capshape capsurface capcolor bruises odor gillattachment gillspacing  \\\n",
       "0     p        x          s        n       t    p              f           c   \n",
       "1     e        x          s        y       t    a              f           c   \n",
       "2     e        b          s        w       t    l              f           c   \n",
       "3     p        x          y        w       t    p              f           c   \n",
       "4     e        x          s        g       f    n              f           w   \n",
       "\n",
       "  gillsize gillcolor  ... stalksurfacebelowring stalkcolorabovering  \\\n",
       "0        n         k  ...                     s                   w   \n",
       "1        b         k  ...                     s                   w   \n",
       "2        b         n  ...                     s                   w   \n",
       "3        n         n  ...                     s                   w   \n",
       "4        b         k  ...                     s                   w   \n",
       "\n",
       "  stalkcolorbelowring veiltype veilcolor ringnumber ringtype sporeprintcolor  \\\n",
       "0                   w        p         w          o        p               k   \n",
       "1                   w        p         w          o        p               n   \n",
       "2                   w        p         w          o        p               n   \n",
       "3                   w        p         w          o        p               k   \n",
       "4                   w        p         w          o        e               n   \n",
       "\n",
       "  population habitat  \n",
       "0          s       u  \n",
       "1          n       g  \n",
       "2          n       m  \n",
       "3          s       u  \n",
       "4          a       g  \n",
       "\n",
       "[5 rows x 23 columns]"
      ]
     },
     "execution_count": 3,
     "metadata": {},
     "output_type": "execute_result"
    }
   ],
   "source": [
    "\n",
    "df.head()"
   ]
  },
  {
   "cell_type": "code",
   "execution_count": 4,
   "id": "3adf35e3",
   "metadata": {
    "execution": {
     "iopub.execute_input": "2022-11-02T15:33:19.685401Z",
     "iopub.status.busy": "2022-11-02T15:33:19.684959Z",
     "iopub.status.idle": "2022-11-02T15:33:19.719428Z",
     "shell.execute_reply": "2022-11-02T15:33:19.718390Z"
    },
    "papermill": {
     "duration": 0.046765,
     "end_time": "2022-11-02T15:33:19.722662",
     "exception": false,
     "start_time": "2022-11-02T15:33:19.675897",
     "status": "completed"
    },
    "tags": []
   },
   "outputs": [
    {
     "name": "stdout",
     "output_type": "stream",
     "text": [
      "<class 'pandas.core.frame.DataFrame'>\n",
      "RangeIndex: 8124 entries, 0 to 8123\n",
      "Data columns (total 23 columns):\n",
      " #   Column                 Non-Null Count  Dtype \n",
      "---  ------                 --------------  ----- \n",
      " 0   class                  8124 non-null   object\n",
      " 1   capshape               8124 non-null   object\n",
      " 2   capsurface             8124 non-null   object\n",
      " 3   capcolor               8124 non-null   object\n",
      " 4   bruises                8124 non-null   object\n",
      " 5   odor                   8124 non-null   object\n",
      " 6   gillattachment         8124 non-null   object\n",
      " 7   gillspacing            8124 non-null   object\n",
      " 8   gillsize               8124 non-null   object\n",
      " 9   gillcolor              8124 non-null   object\n",
      " 10  stalkshape             8124 non-null   object\n",
      " 11  stalkroot              8124 non-null   object\n",
      " 12  stalksurfaceabovering  8124 non-null   object\n",
      " 13  stalksurfacebelowring  8124 non-null   object\n",
      " 14  stalkcolorabovering    8124 non-null   object\n",
      " 15  stalkcolorbelowring    8124 non-null   object\n",
      " 16  veiltype               8124 non-null   object\n",
      " 17  veilcolor              8124 non-null   object\n",
      " 18  ringnumber             8124 non-null   object\n",
      " 19  ringtype               8124 non-null   object\n",
      " 20  sporeprintcolor        8124 non-null   object\n",
      " 21  population             8124 non-null   object\n",
      " 22  habitat                8124 non-null   object\n",
      "dtypes: object(23)\n",
      "memory usage: 1.4+ MB\n"
     ]
    }
   ],
   "source": [
    "df.info()"
   ]
  },
  {
   "cell_type": "code",
   "execution_count": 5,
   "id": "e0d7fa81",
   "metadata": {
    "execution": {
     "iopub.execute_input": "2022-11-02T15:33:19.756427Z",
     "iopub.status.busy": "2022-11-02T15:33:19.755982Z",
     "iopub.status.idle": "2022-11-02T15:33:19.781477Z",
     "shell.execute_reply": "2022-11-02T15:33:19.779855Z"
    },
    "papermill": {
     "duration": 0.03705,
     "end_time": "2022-11-02T15:33:19.784174",
     "exception": false,
     "start_time": "2022-11-02T15:33:19.747124",
     "status": "completed"
    },
    "tags": []
   },
   "outputs": [
    {
     "data": {
      "text/plain": [
       "0"
      ]
     },
     "execution_count": 5,
     "metadata": {},
     "output_type": "execute_result"
    }
   ],
   "source": [
    "df.duplicated().sum()"
   ]
  },
  {
   "cell_type": "code",
   "execution_count": 6,
   "id": "8b023dfa",
   "metadata": {
    "execution": {
     "iopub.execute_input": "2022-11-02T15:33:19.819220Z",
     "iopub.status.busy": "2022-11-02T15:33:19.818753Z",
     "iopub.status.idle": "2022-11-02T15:33:19.890043Z",
     "shell.execute_reply": "2022-11-02T15:33:19.888612Z"
    },
    "papermill": {
     "duration": 0.083685,
     "end_time": "2022-11-02T15:33:19.892874",
     "exception": false,
     "start_time": "2022-11-02T15:33:19.809189",
     "status": "completed"
    },
    "tags": []
   },
   "outputs": [
    {
     "name": "stdout",
     "output_type": "stream",
     "text": [
      "       class capshape capsurface capcolor bruises  odor gillattachment  \\\n",
      "count   8124     8124       8124     8124    8124  8124           8124   \n",
      "unique     2        6          4       10       2     9              2   \n",
      "top        e        x          y        n       f     n              f   \n",
      "freq    4208     3656       3244     2284    4748  3528           7914   \n",
      "\n",
      "       gillspacing gillsize gillcolor  ... stalksurfacebelowring  \\\n",
      "count         8124     8124      8124  ...                  8124   \n",
      "unique           2        2        12  ...                     4   \n",
      "top              c        b         b  ...                     s   \n",
      "freq          6812     5612      1728  ...                  4936   \n",
      "\n",
      "       stalkcolorabovering stalkcolorbelowring veiltype veilcolor ringnumber  \\\n",
      "count                 8124                8124     8124      8124       8124   \n",
      "unique                   9                   9        1         4          3   \n",
      "top                      w                   w        p         w          o   \n",
      "freq                  4464                4384     8124      7924       7488   \n",
      "\n",
      "       ringtype sporeprintcolor population habitat  \n",
      "count      8124            8124       8124    8124  \n",
      "unique        5               9          6       7  \n",
      "top           p               w          v       d  \n",
      "freq       3968            2388       4040    3148  \n",
      "\n",
      "[4 rows x 23 columns]\n"
     ]
    }
   ],
   "source": [
    "print(df.describe())"
   ]
  },
  {
   "cell_type": "code",
   "execution_count": 7,
   "id": "a90862dc",
   "metadata": {
    "execution": {
     "iopub.execute_input": "2022-11-02T15:33:19.911493Z",
     "iopub.status.busy": "2022-11-02T15:33:19.910309Z",
     "iopub.status.idle": "2022-11-02T15:33:19.962915Z",
     "shell.execute_reply": "2022-11-02T15:33:19.960666Z"
    },
    "papermill": {
     "duration": 0.064628,
     "end_time": "2022-11-02T15:33:19.965632",
     "exception": false,
     "start_time": "2022-11-02T15:33:19.901004",
     "status": "completed"
    },
    "tags": []
   },
   "outputs": [
    {
     "name": "stdout",
     "output_type": "stream",
     "text": [
      "class (2) :\n",
      "e    4208\n",
      "p    3916\n",
      "Name: class, dtype: int64\n",
      "capshape (6) :\n",
      "x    3656\n",
      "f    3152\n",
      "k     828\n",
      "b     452\n",
      "s      32\n",
      "c       4\n",
      "Name: capshape, dtype: int64\n",
      "capsurface (4) :\n",
      "y    3244\n",
      "s    2556\n",
      "f    2320\n",
      "g       4\n",
      "Name: capsurface, dtype: int64\n",
      "capcolor (10) :\n",
      "n    2284\n",
      "g    1840\n",
      "e    1500\n",
      "y    1072\n",
      "w    1040\n",
      "b     168\n",
      "p     144\n",
      "c      44\n",
      "u      16\n",
      "r      16\n",
      "Name: capcolor, dtype: int64\n",
      "bruises (2) :\n",
      "f    4748\n",
      "t    3376\n",
      "Name: bruises, dtype: int64\n",
      "odor (9) :\n",
      "n    3528\n",
      "f    2160\n",
      "y     576\n",
      "s     576\n",
      "a     400\n",
      "l     400\n",
      "p     256\n",
      "c     192\n",
      "m      36\n",
      "Name: odor, dtype: int64\n",
      "gillattachment (2) :\n",
      "f    7914\n",
      "a     210\n",
      "Name: gillattachment, dtype: int64\n",
      "gillspacing (2) :\n",
      "c    6812\n",
      "w    1312\n",
      "Name: gillspacing, dtype: int64\n",
      "gillsize (2) :\n",
      "b    5612\n",
      "n    2512\n",
      "Name: gillsize, dtype: int64\n",
      "gillcolor (12) :\n",
      "b    1728\n",
      "p    1492\n",
      "w    1202\n",
      "n    1048\n",
      "g     752\n",
      "h     732\n",
      "u     492\n",
      "k     408\n",
      "e      96\n",
      "y      86\n",
      "o      64\n",
      "r      24\n",
      "Name: gillcolor, dtype: int64\n",
      "stalkshape (2) :\n",
      "t    4608\n",
      "e    3516\n",
      "Name: stalkshape, dtype: int64\n",
      "stalkroot (5) :\n",
      "b    3776\n",
      "?    2480\n",
      "e    1120\n",
      "c     556\n",
      "r     192\n",
      "Name: stalkroot, dtype: int64\n",
      "stalksurfaceabovering (4) :\n",
      "s    5176\n",
      "k    2372\n",
      "f     552\n",
      "y      24\n",
      "Name: stalksurfaceabovering, dtype: int64\n",
      "stalksurfacebelowring (4) :\n",
      "s    4936\n",
      "k    2304\n",
      "f     600\n",
      "y     284\n",
      "Name: stalksurfacebelowring, dtype: int64\n",
      "stalkcolorabovering (9) :\n",
      "w    4464\n",
      "p    1872\n",
      "g     576\n",
      "n     448\n",
      "b     432\n",
      "o     192\n",
      "e      96\n",
      "c      36\n",
      "y       8\n",
      "Name: stalkcolorabovering, dtype: int64\n",
      "stalkcolorbelowring (9) :\n",
      "w    4384\n",
      "p    1872\n",
      "g     576\n",
      "n     512\n",
      "b     432\n",
      "o     192\n",
      "e      96\n",
      "c      36\n",
      "y      24\n",
      "Name: stalkcolorbelowring, dtype: int64\n",
      "veiltype (1) :\n",
      "p    8124\n",
      "Name: veiltype, dtype: int64\n",
      "veilcolor (4) :\n",
      "w    7924\n",
      "n      96\n",
      "o      96\n",
      "y       8\n",
      "Name: veilcolor, dtype: int64\n",
      "ringnumber (3) :\n",
      "o    7488\n",
      "t     600\n",
      "n      36\n",
      "Name: ringnumber, dtype: int64\n",
      "ringtype (5) :\n",
      "p    3968\n",
      "e    2776\n",
      "l    1296\n",
      "f      48\n",
      "n      36\n",
      "Name: ringtype, dtype: int64\n",
      "sporeprintcolor (9) :\n",
      "w    2388\n",
      "n    1968\n",
      "k    1872\n",
      "h    1632\n",
      "r      72\n",
      "u      48\n",
      "o      48\n",
      "y      48\n",
      "b      48\n",
      "Name: sporeprintcolor, dtype: int64\n",
      "population (6) :\n",
      "v    4040\n",
      "y    1712\n",
      "s    1248\n",
      "n     400\n",
      "a     384\n",
      "c     340\n",
      "Name: population, dtype: int64\n",
      "habitat (7) :\n",
      "d    3148\n",
      "g    2148\n",
      "p    1144\n",
      "l     832\n",
      "u     368\n",
      "m     292\n",
      "w     192\n",
      "Name: habitat, dtype: int64\n"
     ]
    }
   ],
   "source": [
    "for col in df:\n",
    "    print(col,'({})'.format(df[col].nunique()), \":\")\n",
    "    print(df[col].value_counts())"
   ]
  },
  {
   "cell_type": "code",
   "execution_count": 8,
   "id": "cd88f96d",
   "metadata": {
    "execution": {
     "iopub.execute_input": "2022-11-02T15:33:20.000099Z",
     "iopub.status.busy": "2022-11-02T15:33:19.999662Z",
     "iopub.status.idle": "2022-11-02T15:33:20.008630Z",
     "shell.execute_reply": "2022-11-02T15:33:20.007184Z"
    },
    "papermill": {
     "duration": 0.021098,
     "end_time": "2022-11-02T15:33:20.011007",
     "exception": false,
     "start_time": "2022-11-02T15:33:19.989909",
     "status": "completed"
    },
    "tags": []
   },
   "outputs": [],
   "source": [
    "df.drop('veiltype',axis=1, inplace=True)"
   ]
  },
  {
   "cell_type": "code",
   "execution_count": 9,
   "id": "b19f8941",
   "metadata": {
    "execution": {
     "iopub.execute_input": "2022-11-02T15:33:20.046076Z",
     "iopub.status.busy": "2022-11-02T15:33:20.045647Z",
     "iopub.status.idle": "2022-11-02T15:33:20.073515Z",
     "shell.execute_reply": "2022-11-02T15:33:20.072270Z"
    },
    "papermill": {
     "duration": 0.040322,
     "end_time": "2022-11-02T15:33:20.076123",
     "exception": false,
     "start_time": "2022-11-02T15:33:20.035801",
     "status": "completed"
    },
    "tags": []
   },
   "outputs": [
    {
     "data": {
      "text/html": [
       "<div>\n",
       "<style scoped>\n",
       "    .dataframe tbody tr th:only-of-type {\n",
       "        vertical-align: middle;\n",
       "    }\n",
       "\n",
       "    .dataframe tbody tr th {\n",
       "        vertical-align: top;\n",
       "    }\n",
       "\n",
       "    .dataframe thead th {\n",
       "        text-align: right;\n",
       "    }\n",
       "</style>\n",
       "<table border=\"1\" class=\"dataframe\">\n",
       "  <thead>\n",
       "    <tr style=\"text-align: right;\">\n",
       "      <th></th>\n",
       "      <th>class</th>\n",
       "      <th>capshape</th>\n",
       "      <th>capsurface</th>\n",
       "      <th>capcolor</th>\n",
       "      <th>bruises</th>\n",
       "      <th>odor</th>\n",
       "      <th>gillattachment</th>\n",
       "      <th>gillspacing</th>\n",
       "      <th>gillsize</th>\n",
       "      <th>gillcolor</th>\n",
       "      <th>...</th>\n",
       "      <th>stalksurfaceabovering</th>\n",
       "      <th>stalksurfacebelowring</th>\n",
       "      <th>stalkcolorabovering</th>\n",
       "      <th>stalkcolorbelowring</th>\n",
       "      <th>veilcolor</th>\n",
       "      <th>ringnumber</th>\n",
       "      <th>ringtype</th>\n",
       "      <th>sporeprintcolor</th>\n",
       "      <th>population</th>\n",
       "      <th>habitat</th>\n",
       "    </tr>\n",
       "  </thead>\n",
       "  <tbody>\n",
       "    <tr>\n",
       "      <th>0</th>\n",
       "      <td>0</td>\n",
       "      <td>x</td>\n",
       "      <td>s</td>\n",
       "      <td>n</td>\n",
       "      <td>t</td>\n",
       "      <td>p</td>\n",
       "      <td>f</td>\n",
       "      <td>c</td>\n",
       "      <td>n</td>\n",
       "      <td>k</td>\n",
       "      <td>...</td>\n",
       "      <td>s</td>\n",
       "      <td>s</td>\n",
       "      <td>w</td>\n",
       "      <td>w</td>\n",
       "      <td>w</td>\n",
       "      <td>o</td>\n",
       "      <td>p</td>\n",
       "      <td>k</td>\n",
       "      <td>s</td>\n",
       "      <td>u</td>\n",
       "    </tr>\n",
       "    <tr>\n",
       "      <th>1</th>\n",
       "      <td>1</td>\n",
       "      <td>x</td>\n",
       "      <td>s</td>\n",
       "      <td>y</td>\n",
       "      <td>t</td>\n",
       "      <td>a</td>\n",
       "      <td>f</td>\n",
       "      <td>c</td>\n",
       "      <td>b</td>\n",
       "      <td>k</td>\n",
       "      <td>...</td>\n",
       "      <td>s</td>\n",
       "      <td>s</td>\n",
       "      <td>w</td>\n",
       "      <td>w</td>\n",
       "      <td>w</td>\n",
       "      <td>o</td>\n",
       "      <td>p</td>\n",
       "      <td>n</td>\n",
       "      <td>n</td>\n",
       "      <td>g</td>\n",
       "    </tr>\n",
       "  </tbody>\n",
       "</table>\n",
       "<p>2 rows × 22 columns</p>\n",
       "</div>"
      ],
      "text/plain": [
       "   class capshape capsurface capcolor bruises odor gillattachment gillspacing  \\\n",
       "0      0        x          s        n       t    p              f           c   \n",
       "1      1        x          s        y       t    a              f           c   \n",
       "\n",
       "  gillsize gillcolor  ... stalksurfaceabovering stalksurfacebelowring  \\\n",
       "0        n         k  ...                     s                     s   \n",
       "1        b         k  ...                     s                     s   \n",
       "\n",
       "  stalkcolorabovering stalkcolorbelowring veilcolor ringnumber ringtype  \\\n",
       "0                   w                   w         w          o        p   \n",
       "1                   w                   w         w          o        p   \n",
       "\n",
       "  sporeprintcolor population habitat  \n",
       "0               k          s       u  \n",
       "1               n          n       g  \n",
       "\n",
       "[2 rows x 22 columns]"
      ]
     },
     "execution_count": 9,
     "metadata": {},
     "output_type": "execute_result"
    }
   ],
   "source": [
    "#Replace unique values in Class column to 0 and 1\n",
    "\n",
    "df['class'] = df[\"class\"].map({ 'e': 1, 'p': 0})\n",
    "df.head(2)"
   ]
  },
  {
   "cell_type": "code",
   "execution_count": 10,
   "id": "b02632c3",
   "metadata": {
    "execution": {
     "iopub.execute_input": "2022-11-02T15:33:20.095527Z",
     "iopub.status.busy": "2022-11-02T15:33:20.094607Z",
     "iopub.status.idle": "2022-11-02T15:33:20.141941Z",
     "shell.execute_reply": "2022-11-02T15:33:20.140580Z"
    },
    "papermill": {
     "duration": 0.059841,
     "end_time": "2022-11-02T15:33:20.144706",
     "exception": false,
     "start_time": "2022-11-02T15:33:20.084865",
     "status": "completed"
    },
    "tags": []
   },
   "outputs": [
    {
     "name": "stdout",
     "output_type": "stream",
     "text": [
      "   gillsize_n  bruises_t  stalkshape_t  ringnumber_o  ringnumber_t  \\\n",
      "0           1          1             0             1             0   \n",
      "1           0          1             0             1             0   \n",
      "2           0          1             0             1             0   \n",
      "3           1          1             0             1             0   \n",
      "4           0          0             1             1             0   \n",
      "\n",
      "   veilcolor_o  veilcolor_w  veilcolor_y  capsurface_g  capsurface_s  \\\n",
      "0            0            1            0             0             1   \n",
      "1            0            1            0             0             1   \n",
      "2            0            1            0             0             1   \n",
      "3            0            1            0             0             0   \n",
      "4            0            1            0             0             1   \n",
      "\n",
      "   capsurface_y  \n",
      "0             0  \n",
      "1             0  \n",
      "2             0  \n",
      "3             1  \n",
      "4             0  \n"
     ]
    }
   ],
   "source": [
    "#convert categorical values in to numeric\n",
    "df_features=df[['gillsize','bruises','stalkshape', 'ringnumber', 'veilcolor', 'capsurface']]\n",
    "# df.drop('class',axis=1)\n",
    "df_features=pd.get_dummies(df_features, drop_first=True)\n",
    "print(df_features.head())"
   ]
  },
  {
   "cell_type": "code",
   "execution_count": 11,
   "id": "09321e96",
   "metadata": {
    "execution": {
     "iopub.execute_input": "2022-11-02T15:33:20.163704Z",
     "iopub.status.busy": "2022-11-02T15:33:20.163266Z",
     "iopub.status.idle": "2022-11-02T15:33:21.274772Z",
     "shell.execute_reply": "2022-11-02T15:33:21.273479Z"
    },
    "papermill": {
     "duration": 1.124316,
     "end_time": "2022-11-02T15:33:21.277623",
     "exception": false,
     "start_time": "2022-11-02T15:33:20.153307",
     "status": "completed"
    },
    "tags": []
   },
   "outputs": [],
   "source": [
    "# split the data in to independent features and target feature\n",
    "X=df_features\n",
    "y=df['class']\n",
    "\n",
    "# split the data in to X_train,X_test, y_train and y_test\n",
    "from sklearn.model_selection import train_test_split\n",
    "X_train,X_test,y_train,y_test = train_test_split(X,y,random_state=0, test_size=0.2)"
   ]
  },
  {
   "cell_type": "code",
   "execution_count": 12,
   "id": "df79ae27",
   "metadata": {
    "execution": {
     "iopub.execute_input": "2022-11-02T15:33:21.299852Z",
     "iopub.status.busy": "2022-11-02T15:33:21.298602Z",
     "iopub.status.idle": "2022-11-02T15:33:21.318564Z",
     "shell.execute_reply": "2022-11-02T15:33:21.317349Z"
    },
    "papermill": {
     "duration": 0.032564,
     "end_time": "2022-11-02T15:33:21.321299",
     "exception": false,
     "start_time": "2022-11-02T15:33:21.288735",
     "status": "completed"
    },
    "tags": []
   },
   "outputs": [
    {
     "data": {
      "text/html": [
       "<div>\n",
       "<style scoped>\n",
       "    .dataframe tbody tr th:only-of-type {\n",
       "        vertical-align: middle;\n",
       "    }\n",
       "\n",
       "    .dataframe tbody tr th {\n",
       "        vertical-align: top;\n",
       "    }\n",
       "\n",
       "    .dataframe thead th {\n",
       "        text-align: right;\n",
       "    }\n",
       "</style>\n",
       "<table border=\"1\" class=\"dataframe\">\n",
       "  <thead>\n",
       "    <tr style=\"text-align: right;\">\n",
       "      <th></th>\n",
       "      <th>gillsize_n</th>\n",
       "      <th>bruises_t</th>\n",
       "      <th>stalkshape_t</th>\n",
       "      <th>ringnumber_o</th>\n",
       "      <th>ringnumber_t</th>\n",
       "      <th>veilcolor_o</th>\n",
       "      <th>veilcolor_w</th>\n",
       "      <th>veilcolor_y</th>\n",
       "      <th>capsurface_g</th>\n",
       "      <th>capsurface_s</th>\n",
       "      <th>capsurface_y</th>\n",
       "    </tr>\n",
       "  </thead>\n",
       "  <tbody>\n",
       "    <tr>\n",
       "      <th>0</th>\n",
       "      <td>1</td>\n",
       "      <td>1</td>\n",
       "      <td>0</td>\n",
       "      <td>1</td>\n",
       "      <td>0</td>\n",
       "      <td>0</td>\n",
       "      <td>1</td>\n",
       "      <td>0</td>\n",
       "      <td>0</td>\n",
       "      <td>1</td>\n",
       "      <td>0</td>\n",
       "    </tr>\n",
       "    <tr>\n",
       "      <th>1</th>\n",
       "      <td>0</td>\n",
       "      <td>1</td>\n",
       "      <td>0</td>\n",
       "      <td>1</td>\n",
       "      <td>0</td>\n",
       "      <td>0</td>\n",
       "      <td>1</td>\n",
       "      <td>0</td>\n",
       "      <td>0</td>\n",
       "      <td>1</td>\n",
       "      <td>0</td>\n",
       "    </tr>\n",
       "    <tr>\n",
       "      <th>2</th>\n",
       "      <td>0</td>\n",
       "      <td>1</td>\n",
       "      <td>0</td>\n",
       "      <td>1</td>\n",
       "      <td>0</td>\n",
       "      <td>0</td>\n",
       "      <td>1</td>\n",
       "      <td>0</td>\n",
       "      <td>0</td>\n",
       "      <td>1</td>\n",
       "      <td>0</td>\n",
       "    </tr>\n",
       "    <tr>\n",
       "      <th>3</th>\n",
       "      <td>1</td>\n",
       "      <td>1</td>\n",
       "      <td>0</td>\n",
       "      <td>1</td>\n",
       "      <td>0</td>\n",
       "      <td>0</td>\n",
       "      <td>1</td>\n",
       "      <td>0</td>\n",
       "      <td>0</td>\n",
       "      <td>0</td>\n",
       "      <td>1</td>\n",
       "    </tr>\n",
       "    <tr>\n",
       "      <th>4</th>\n",
       "      <td>0</td>\n",
       "      <td>0</td>\n",
       "      <td>1</td>\n",
       "      <td>1</td>\n",
       "      <td>0</td>\n",
       "      <td>0</td>\n",
       "      <td>1</td>\n",
       "      <td>0</td>\n",
       "      <td>0</td>\n",
       "      <td>1</td>\n",
       "      <td>0</td>\n",
       "    </tr>\n",
       "  </tbody>\n",
       "</table>\n",
       "</div>"
      ],
      "text/plain": [
       "   gillsize_n  bruises_t  stalkshape_t  ringnumber_o  ringnumber_t  \\\n",
       "0           1          1             0             1             0   \n",
       "1           0          1             0             1             0   \n",
       "2           0          1             0             1             0   \n",
       "3           1          1             0             1             0   \n",
       "4           0          0             1             1             0   \n",
       "\n",
       "   veilcolor_o  veilcolor_w  veilcolor_y  capsurface_g  capsurface_s  \\\n",
       "0            0            1            0             0             1   \n",
       "1            0            1            0             0             1   \n",
       "2            0            1            0             0             1   \n",
       "3            0            1            0             0             0   \n",
       "4            0            1            0             0             1   \n",
       "\n",
       "   capsurface_y  \n",
       "0             0  \n",
       "1             0  \n",
       "2             0  \n",
       "3             1  \n",
       "4             0  "
      ]
     },
     "execution_count": 12,
     "metadata": {},
     "output_type": "execute_result"
    }
   ],
   "source": [
    "X.head()"
   ]
  },
  {
   "cell_type": "code",
   "execution_count": 13,
   "id": "58173d31",
   "metadata": {
    "execution": {
     "iopub.execute_input": "2022-11-02T15:33:21.358410Z",
     "iopub.status.busy": "2022-11-02T15:33:21.357573Z",
     "iopub.status.idle": "2022-11-02T15:33:21.600884Z",
     "shell.execute_reply": "2022-11-02T15:33:21.599448Z"
    },
    "papermill": {
     "duration": 0.257757,
     "end_time": "2022-11-02T15:33:21.605108",
     "exception": false,
     "start_time": "2022-11-02T15:33:21.347351",
     "status": "completed"
    },
    "tags": []
   },
   "outputs": [
    {
     "data": {
      "text/plain": [
       "LogisticRegression()"
      ]
     },
     "execution_count": 13,
     "metadata": {},
     "output_type": "execute_result"
    }
   ],
   "source": [
    "from sklearn.linear_model import LogisticRegression\n",
    "model=LogisticRegression()\n",
    "model.fit(X_train, y_train)"
   ]
  },
  {
   "cell_type": "code",
   "execution_count": 14,
   "id": "82fcdb11",
   "metadata": {
    "execution": {
     "iopub.execute_input": "2022-11-02T15:33:21.651867Z",
     "iopub.status.busy": "2022-11-02T15:33:21.651137Z",
     "iopub.status.idle": "2022-11-02T15:33:21.668977Z",
     "shell.execute_reply": "2022-11-02T15:33:21.667318Z"
    },
    "papermill": {
     "duration": 0.046957,
     "end_time": "2022-11-02T15:33:21.674210",
     "exception": false,
     "start_time": "2022-11-02T15:33:21.627253",
     "status": "completed"
    },
    "tags": []
   },
   "outputs": [],
   "source": [
    "# predict the test data\n",
    "\n",
    "y_pred= model.predict(X_test)"
   ]
  },
  {
   "cell_type": "code",
   "execution_count": 15,
   "id": "e7567b98",
   "metadata": {
    "execution": {
     "iopub.execute_input": "2022-11-02T15:33:21.768057Z",
     "iopub.status.busy": "2022-11-02T15:33:21.767295Z",
     "iopub.status.idle": "2022-11-02T15:33:21.780251Z",
     "shell.execute_reply": "2022-11-02T15:33:21.778575Z"
    },
    "papermill": {
     "duration": 0.046422,
     "end_time": "2022-11-02T15:33:21.788600",
     "exception": false,
     "start_time": "2022-11-02T15:33:21.742178",
     "status": "completed"
    },
    "tags": []
   },
   "outputs": [
    {
     "name": "stdout",
     "output_type": "stream",
     "text": [
      "the accuracy score= 0.88\n"
     ]
    }
   ],
   "source": [
    "# compare the predicted values with actual values(y_test)\n",
    "from sklearn.metrics import accuracy_score\n",
    "accu_score= accuracy_score(y_test, y_pred)\n",
    "print( 'the accuracy score=' , (accu_score))"
   ]
  },
  {
   "cell_type": "code",
   "execution_count": 16,
   "id": "2ee21747",
   "metadata": {
    "execution": {
     "iopub.execute_input": "2022-11-02T15:33:21.808601Z",
     "iopub.status.busy": "2022-11-02T15:33:21.808150Z",
     "iopub.status.idle": "2022-11-02T15:33:21.823171Z",
     "shell.execute_reply": "2022-11-02T15:33:21.821005Z"
    },
    "papermill": {
     "duration": 0.028531,
     "end_time": "2022-11-02T15:33:21.826011",
     "exception": false,
     "start_time": "2022-11-02T15:33:21.797480",
     "status": "completed"
    },
    "tags": []
   },
   "outputs": [
    {
     "name": "stdout",
     "output_type": "stream",
     "text": [
      "              precision    recall  f1-score   support\n",
      "\n",
      "           0       0.85      0.90      0.88       773\n",
      "           1       0.91      0.86      0.88       852\n",
      "\n",
      "    accuracy                           0.88      1625\n",
      "   macro avg       0.88      0.88      0.88      1625\n",
      "weighted avg       0.88      0.88      0.88      1625\n",
      "\n"
     ]
    }
   ],
   "source": [
    "from sklearn.metrics import classification_report\n",
    "print(classification_report(y_test, y_pred))"
   ]
  },
  {
   "cell_type": "code",
   "execution_count": 17,
   "id": "3ab778eb",
   "metadata": {
    "execution": {
     "iopub.execute_input": "2022-11-02T15:33:22.381467Z",
     "iopub.status.busy": "2022-11-02T15:33:22.380998Z",
     "iopub.status.idle": "2022-11-02T15:33:22.390949Z",
     "shell.execute_reply": "2022-11-02T15:33:22.389405Z"
    },
    "papermill": {
     "duration": 0.02368,
     "end_time": "2022-11-02T15:33:22.393706",
     "exception": false,
     "start_time": "2022-11-02T15:33:22.370026",
     "status": "completed"
    },
    "tags": []
   },
   "outputs": [
    {
     "name": "stdout",
     "output_type": "stream",
     "text": [
      "[[697  76]\n",
      " [119 733]]\n"
     ]
    }
   ],
   "source": [
    "from sklearn.metrics import confusion_matrix\n",
    "cm=confusion_matrix(y_test, y_pred)\n",
    "print(cm)"
   ]
  },
  {
   "cell_type": "code",
   "execution_count": 18,
   "id": "279ee45b",
   "metadata": {
    "execution": {
     "iopub.execute_input": "2022-11-02T15:33:22.413758Z",
     "iopub.status.busy": "2022-11-02T15:33:22.413307Z",
     "iopub.status.idle": "2022-11-02T15:33:22.426460Z",
     "shell.execute_reply": "2022-11-02T15:33:22.424969Z"
    },
    "papermill": {
     "duration": 0.026422,
     "end_time": "2022-11-02T15:33:22.429220",
     "exception": false,
     "start_time": "2022-11-02T15:33:22.402798",
     "status": "completed"
    },
    "tags": []
   },
   "outputs": [
    {
     "name": "stdout",
     "output_type": "stream",
     "text": [
      "              precision    recall  f1-score   support\n",
      "\n",
      "           0       0.85      0.90      0.88       773\n",
      "           1       0.91      0.86      0.88       852\n",
      "\n",
      "    accuracy                           0.88      1625\n",
      "   macro avg       0.88      0.88      0.88      1625\n",
      "weighted avg       0.88      0.88      0.88      1625\n",
      "\n"
     ]
    }
   ],
   "source": [
    "print(classification_report(y_test, y_pred))"
   ]
  },
  {
   "cell_type": "code",
   "execution_count": 19,
   "id": "e691a9e5",
   "metadata": {},
   "outputs": [],
   "source": [
    "# saving the model \n",
    "import pickle \n",
    "pickle_out = open(\"classifier.pkl\", mode = \"wb\") \n",
    "pickle.dump(model, pickle_out) \n",
    "pickle_out.close()"
   ]
  },
  {
   "cell_type": "code",
   "execution_count": 20,
   "id": "67429450",
   "metadata": {},
   "outputs": [
    {
     "name": "stdout",
     "output_type": "stream",
     "text": [
      "Overwriting mushroom.py\n"
     ]
    }
   ],
   "source": [
    "%%writefile mushroom.py\n",
    " \n",
    "import pickle\n",
    "import streamlit as st\n",
    " \n",
    "# loading the trained model\n",
    "pickle_in = open('classifier.pkl', 'rb') \n",
    "classifier = pickle.load(pickle_in)\n",
    " \n",
    "@st.cache()\n",
    "  \n",
    "# defining the function which will make the prediction using the data which the user inputs \n",
    "def prediction(gillsize, bruises, stalkshape, ringnumber, veilcolor, capsurface):   \n",
    " \n",
    "    # Preprocessing user input    \n",
    "    if gillsize == \"narrow\":\n",
    "        gillsize_n = 1\n",
    "    else:\n",
    "        gillsize_n = 0\n",
    " \n",
    "    if bruises == \"false\":\n",
    "        bruises_t = 0\n",
    "    else:\n",
    "        bruises_t = 1\n",
    "\n",
    "    if stalkshape == \"tapering\":\n",
    "        stalkshape_t = 1\n",
    "    else:\n",
    "        stalkshape_t = 0\n",
    "\n",
    "    if ringnumber ==\"one\":\n",
    "        ringnumber_o = 1\n",
    "        ringnumber_t = 0  \n",
    "    else :\n",
    "        ringnumber_t = 1\n",
    "        ringnumber_o = 0\n",
    "    \n",
    "        \n",
    "    if veilcolor == \"orange\":\n",
    "        veilcolor_o = 1\n",
    "        veilcolor_w = 0\n",
    "        veilcolor_y = 0\n",
    "    elif veilcolor==\"white\":\n",
    "        veilcolor_w = 1 \n",
    "        veilcolor_o = 0\n",
    "        veilcolor_y = 0   \n",
    "    else:\n",
    "        veilcolor_y = 1\n",
    "        veilcolor_o = 0\n",
    "        veilcolor_w = 0\n",
    "\n",
    "\n",
    "    if  capsurface == \"grooves\":\n",
    "        capsurface_g = 1\n",
    "        capsurface_s = 0\n",
    "        capsurface_y = 0\n",
    "    elif  capsurface == \"smooth\":\n",
    "        capsurface_s = 1\n",
    "        capsurface_g = 0\n",
    "        capsurface_y = 0\n",
    "    else:\n",
    "        capsurface_y = 1\n",
    "        capsurface_s = 0\n",
    "        capsurface_g = 0\n",
    "    \n",
    "    \n",
    "\n",
    "    # Making predictions \n",
    "    prediction = classifier.predict( \n",
    "        [[gillsize_n, bruises_t, stalkshape_t, ringnumber_o, ringnumber_t, veilcolor_o, veilcolor_w, veilcolor_y, capsurface_g, capsurface_s, capsurface_y]])\n",
    "     \n",
    "    if prediction == 0:\n",
    "        pred = 'poisonous'\n",
    "    else:\n",
    "        pred = 'edible'\n",
    "    return pred\n",
    "      \n",
    "  \n",
    "# this is the main function in which we define our webpage  \n",
    "def main():       \n",
    "    # front end elements of the web page \n",
    "    html_temp = \"\"\" \n",
    "    <div style =\"background-color:yellow;padding:13px\"> \n",
    "    <h1 style =\"color:black;text-align:center;\">Streamlit Mushroom Prediction ML App</h1> \n",
    "    </div> \n",
    "    \"\"\"\n",
    "      \n",
    "    # display the front end aspect\n",
    "    st.markdown(html_temp, unsafe_allow_html = True) \n",
    "      \n",
    "    # following lines create boxes in which user can enter data required to make prediction \n",
    "    gillsize = st.selectbox('gill size',(\"narrow\",\"broad\"))\n",
    "    bruises = st.selectbox('bruises',(\"true\",\"false\")) \n",
    "    stalkshape = st.selectbox('stalk shape',(\"tapering\",\"enlarging\")) \n",
    "    ringnumber = st.selectbox('ring number',(\"one\",\"two\"))\n",
    "    veilcolor = st.selectbox('veil colour',(\"yellow\",\"orange\",\"white\"))\n",
    "    capsurface = st.selectbox('cap surface',(\"smooth\",\"scaly\",\"grooves\"))\n",
    "    result =\"\"\n",
    "      \n",
    "    # when 'Predict' is clicked, make the prediction and store it \n",
    "    if st.button(\"Predict\"): \n",
    "        result = prediction(gillsize, bruises, stalkshape, ringnumber, veilcolor, capsurface) \n",
    "        st.success('Your mushroom is {}'.format(result))\n",
    "        # print(LoanAmount)\n",
    "     \n",
    "if __name__=='__main__': \n",
    "    main()"
   ]
  },
  {
   "cell_type": "code",
   "execution_count": 21,
   "id": "0260197c",
   "metadata": {},
   "outputs": [
    {
     "name": "stdout",
     "output_type": "stream",
     "text": [
      "^C\n"
     ]
    }
   ],
   "source": [
    "!streamlit run C:\\Users\\kimut\\Downloads\\mushroom.py"
   ]
  }
 ],
 "metadata": {
  "kernelspec": {
   "display_name": "Python 3 (ipykernel)",
   "language": "python",
   "name": "python3"
  },
  "language_info": {
   "codemirror_mode": {
    "name": "ipython",
    "version": 3
   },
   "file_extension": ".py",
   "mimetype": "text/x-python",
   "name": "python",
   "nbconvert_exporter": "python",
   "pygments_lexer": "ipython3",
   "version": "3.10.6"
  },
  "papermill": {
   "default_parameters": {},
   "duration": 14.600045,
   "end_time": "2022-11-02T15:33:23.299041",
   "environment_variables": {},
   "exception": null,
   "input_path": "__notebook__.ipynb",
   "output_path": "__notebook__.ipynb",
   "parameters": {},
   "start_time": "2022-11-02T15:33:08.698996",
   "version": "2.3.4"
  },
  "vscode": {
   "interpreter": {
    "hash": "d24492c8a6bfa8eb4d5758c8aa22831151676a3e403d55009c1d35e5244bf934"
   }
  }
 },
 "nbformat": 4,
 "nbformat_minor": 5
}
